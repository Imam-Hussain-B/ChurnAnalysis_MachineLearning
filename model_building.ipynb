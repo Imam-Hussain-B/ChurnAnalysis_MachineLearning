{
 "cells": [
  {
   "cell_type": "code",
   "execution_count": 3,
   "id": "97aad383",
   "metadata": {},
   "outputs": [],
   "source": [
    "import pandas as pd\n",
    "from sklearn.model_selection import train_test_split\n",
    "from sklearn.linear_model import LogisticRegression\n",
    "from sklearn.tree import DecisionTreeClassifier\n",
    "from sklearn.ensemble import RandomForestClassifier\n",
    "from sklearn.preprocessing import StandardScaler\n",
    "from imblearn.combine import SMOTEENN\n",
    "from sklearn.metrics import accuracy_score, confusion_matrix, classification_report\n",
    "import pickle"
   ]
  },
  {
   "cell_type": "code",
   "execution_count": 4,
   "id": "fcc2b187",
   "metadata": {},
   "outputs": [],
   "source": [
    "df = pd.read_csv(r\"C:\\Users\\imam9\\Project_ChurnPrediction\\Dataset\\tel_churn.csv\")\n",
    "X = df.drop(\"Churn\", axis=1)\n",
    "y = df[\"Churn\"]"
   ]
  },
  {
   "cell_type": "code",
   "execution_count": 5,
   "id": "e423fba6",
   "metadata": {},
   "outputs": [],
   "source": [
    "X_train, X_test, y_train, y_test = train_test_split(X, y, test_size=0.2, random_state=42, )"
   ]
  },
  {
   "cell_type": "code",
   "execution_count": 6,
   "id": "edca4296",
   "metadata": {},
   "outputs": [],
   "source": [
    "smote = SMOTEENN(random_state=42)\n",
    "X_resampled, y_resampled = smote.fit_resample(X, y)"
   ]
  },
  {
   "cell_type": "code",
   "execution_count": 7,
   "id": "bfd2c7a8",
   "metadata": {},
   "outputs": [],
   "source": [
    "X_train, X_test, y_train, y_test = train_test_split(\n",
    "    X_resampled, y_resampled, test_size=0.2, random_state=42\n",
    ")"
   ]
  },
  {
   "cell_type": "code",
   "execution_count": 9,
   "id": "e09aebb2",
   "metadata": {},
   "outputs": [],
   "source": [
    "scaler = StandardScaler()\n",
    "X_train_scaled = scaler.fit_transform(X_train)\n",
    "X_test_scaled = scaler.transform(X_test)"
   ]
  },
  {
   "cell_type": "markdown",
   "id": "4eea9ca3",
   "metadata": {},
   "source": [
    "# Logistic Regression"
   ]
  },
  {
   "cell_type": "code",
   "execution_count": 10,
   "id": "e207efd6",
   "metadata": {},
   "outputs": [],
   "source": [
    "# ---------------- Logistic Regression ----------------\n",
    "model_lg = LogisticRegression(max_iter=1000)\n",
    "model_lg.fit(X_train_scaled, y_train)\n",
    "y_pred_lg = model_lg.predict(X_test_scaled)"
   ]
  },
  {
   "cell_type": "code",
   "execution_count": 11,
   "id": "f27009bd",
   "metadata": {},
   "outputs": [
    {
     "name": "stdout",
     "output_type": "stream",
     "text": [
      "Accuracy 0.9566694987255735\n",
      "\n",
      "Logistic Regression Report:\n",
      "              precision    recall  f1-score   support\n",
      "\n",
      "           0       0.95      0.96      0.95       546\n",
      "           1       0.96      0.96      0.96       631\n",
      "\n",
      "    accuracy                           0.96      1177\n",
      "   macro avg       0.96      0.96      0.96      1177\n",
      "weighted avg       0.96      0.96      0.96      1177\n",
      "\n"
     ]
    }
   ],
   "source": [
    "print(\"Accuracy\",accuracy_score(y_test,y_pred_lg))\n",
    "print(\"\\nLogistic Regression Report:\")\n",
    "print(classification_report(y_test, y_pred_lg))\n"
   ]
  },
  {
   "cell_type": "markdown",
   "id": "f8cd998d",
   "metadata": {},
   "source": [
    "# Decision Tree"
   ]
  },
  {
   "cell_type": "code",
   "execution_count": 22,
   "id": "ea228d8c",
   "metadata": {},
   "outputs": [],
   "source": [
    "model_dt = DecisionTreeClassifier(criterion=\"gini\", random_state=100, max_depth=6, min_samples_leaf=8)\n",
    "model_dt.fit(X_train_scaled, y_train)\n",
    "y_pred_dt = model_dt.predict(X_test_scaled)"
   ]
  },
  {
   "cell_type": "code",
   "execution_count": 23,
   "id": "9359bc07",
   "metadata": {},
   "outputs": [
    {
     "name": "stdout",
     "output_type": "stream",
     "text": [
      "Accuracy 0.9311809685641461\n",
      "\n",
      "Decision Tree Report:\n",
      "              precision    recall  f1-score   support\n",
      "\n",
      "           0       0.94      0.91      0.92       546\n",
      "           1       0.92      0.95      0.94       631\n",
      "\n",
      "    accuracy                           0.93      1177\n",
      "   macro avg       0.93      0.93      0.93      1177\n",
      "weighted avg       0.93      0.93      0.93      1177\n",
      "\n"
     ]
    }
   ],
   "source": [
    "print(\"Accuracy\",accuracy_score(y_test,y_pred_dt))\n",
    "print(\"\\nDecision Tree Report:\")\n",
    "print(classification_report(y_test, y_pred_dt))\n"
   ]
  },
  {
   "cell_type": "markdown",
   "id": "7901eb9c",
   "metadata": {},
   "source": [
    "# Random forest"
   ]
  },
  {
   "cell_type": "code",
   "execution_count": 24,
   "id": "9e3e540d",
   "metadata": {},
   "outputs": [],
   "source": [
    "# ---------------- Random Forest ----------------\n",
    "model_rf = RandomForestClassifier(criterion=\"gini\", random_state=100, max_depth=6, min_samples_leaf=8)\n",
    "model_rf.fit(X_train_scaled, y_train)\n",
    "y_pred_rf = model_rf.predict(X_test_scaled)"
   ]
  },
  {
   "cell_type": "code",
   "execution_count": 25,
   "id": "398de2f0",
   "metadata": {},
   "outputs": [
    {
     "name": "stdout",
     "output_type": "stream",
     "text": [
      "Accuracy 0.9473237043330501\n",
      "\n",
      "Random Forest Report:\n",
      "              precision    recall  f1-score   support\n",
      "\n",
      "           0       0.96      0.93      0.94       546\n",
      "           1       0.94      0.97      0.95       631\n",
      "\n",
      "    accuracy                           0.95      1177\n",
      "   macro avg       0.95      0.95      0.95      1177\n",
      "weighted avg       0.95      0.95      0.95      1177\n",
      "\n"
     ]
    }
   ],
   "source": [
    "print(\"Accuracy\",accuracy_score(y_test,y_pred_rf))\n",
    "print(\"\\nRandom Forest Report:\")\n",
    "print(classification_report(y_test, y_pred_rf))\n"
   ]
  },
  {
   "cell_type": "markdown",
   "id": "fbff9fa9",
   "metadata": {},
   "source": [
    "# Pickling"
   ]
  },
  {
   "cell_type": "code",
   "execution_count": 16,
   "id": "d37fc024",
   "metadata": {},
   "outputs": [],
   "source": [
    "models = {\n",
    "    \"scaler\": scaler,  # store your fitted scaler / preprocessor\n",
    "    \"logistic\": model_lg,\n",
    "    \"decision_tree\": model_dt,\n",
    "    \"random_forest\": model_rf\n",
    "}"
   ]
  },
  {
   "cell_type": "code",
   "execution_count": 17,
   "id": "06f09f98",
   "metadata": {},
   "outputs": [],
   "source": [
    "with open(\"models_pipeline.pkl\", \"wb\") as f:\n",
    "    pickle.dump(models, f)"
   ]
  },
  {
   "cell_type": "code",
   "execution_count": 18,
   "id": "630410cc",
   "metadata": {},
   "outputs": [],
   "source": [
    "with open(\"models_pipeline.pkl\", \"rb\") as f:\n",
    "    loaded_objects = pickle.load(f)"
   ]
  },
  {
   "cell_type": "code",
   "execution_count": 19,
   "id": "957e321d",
   "metadata": {},
   "outputs": [],
   "source": [
    "logistic_loaded = loaded_objects[\"logistic\"]\n",
    "tree_loaded = loaded_objects[\"decision_tree\"]\n",
    "rf_loaded = loaded_objects[\"random_forest\"]\n",
    "scaler_loaded = loaded_objects[\"scaler\"]"
   ]
  },
  {
   "cell_type": "code",
   "execution_count": 28,
   "id": "3f7e7da0",
   "metadata": {},
   "outputs": [
    {
     "name": "stdout",
     "output_type": "stream",
     "text": [
      "Random Forest Accuracy: 0.9473237043330501\n"
     ]
    }
   ],
   "source": [
    "rf_score = rf_loaded.score(X_test, y_test)\n",
    "print(\"Random Forest Accuracy:\", rf_score)"
   ]
  }
 ],
 "metadata": {
  "kernelspec": {
   "display_name": "churn-env",
   "language": "python",
   "name": "python3"
  },
  "language_info": {
   "codemirror_mode": {
    "name": "ipython",
    "version": 3
   },
   "file_extension": ".py",
   "mimetype": "text/x-python",
   "name": "python",
   "nbconvert_exporter": "python",
   "pygments_lexer": "ipython3",
   "version": "3.10.18"
  }
 },
 "nbformat": 4,
 "nbformat_minor": 5
}
